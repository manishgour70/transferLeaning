{
  "nbformat": 4,
  "nbformat_minor": 0,
  "metadata": {
    "colab": {
      "name": "A3que1.ipynb",
      "provenance": [],
      "collapsed_sections": []
    },
    "kernelspec": {
      "name": "python3",
      "display_name": "Python 3"
    }
  },
  "cells": [
    {
      "cell_type": "code",
      "metadata": {
        "id": "Q43bxM4jiUXH",
        "colab_type": "code",
        "colab": {}
      },
      "source": [
        "import numpy as np\n",
        "import matplotlib.pyplot as plt"
      ],
      "execution_count": 0,
      "outputs": []
    },
    {
      "cell_type": "code",
      "metadata": {
        "id": "ARj_CdtUicpH",
        "colab_type": "code",
        "outputId": "9884a072-d19b-46be-99ce-555be40983cd",
        "colab": {
          "base_uri": "https://localhost:8080/",
          "height": 34
        }
      },
      "source": [
        "from keras.models import Model\n",
        "from keras.callbacks import ModelCheckpoint\n",
        "from keras.layers import (Input, Dense, Concatenate)\n",
        "from keras.utils import np_utils\n"
      ],
      "execution_count": 2,
      "outputs": [
        {
          "output_type": "stream",
          "text": [
            "Using TensorFlow backend.\n"
          ],
          "name": "stderr"
        }
      ]
    },
    {
      "cell_type": "code",
      "metadata": {
        "id": "2FbM2Mjoih4S",
        "colab_type": "code",
        "colab": {}
      },
      "source": [
        "# Load data\n",
        "from keras.datasets import mnist\n"
      ],
      "execution_count": 0,
      "outputs": []
    },
    {
      "cell_type": "code",
      "metadata": {
        "id": "JkQhEcmNilfE",
        "colab_type": "code",
        "colab": {}
      },
      "source": [
        "# input image dimensions\n",
        "img_rows, img_cols = 28, 28                          \n",
        "input_shape = (img_rows * img_cols, )\n"
      ],
      "execution_count": 0,
      "outputs": []
    },
    {
      "cell_type": "code",
      "metadata": {
        "id": "RHRq0puRipyw",
        "colab_type": "code",
        "outputId": "f9a07258-7855-47b2-eb41-6bdf223433e5",
        "colab": {
          "base_uri": "https://localhost:8080/",
          "height": 50
        }
      },
      "source": [
        "# the data, shuffled and split between train and test sets\n",
        "(x_train, y_train), (x_test, y_test) = mnist.load_data()"
      ],
      "execution_count": 5,
      "outputs": [
        {
          "output_type": "stream",
          "text": [
            "Downloading data from https://s3.amazonaws.com/img-datasets/mnist.npz\n",
            "11493376/11490434 [==============================] - 0s 0us/step\n"
          ],
          "name": "stdout"
        }
      ]
    },
    {
      "cell_type": "code",
      "metadata": {
        "id": "eP0mFTvkitMF",
        "colab_type": "code",
        "outputId": "c4768ad7-5eac-426d-8d21-eac58d985328",
        "colab": {
          "base_uri": "https://localhost:8080/",
          "height": 84
        }
      },
      "source": [
        "x_train = x_train.reshape(x_train.shape[0], np.prod(x_train.shape[1:]))\n",
        "x_test = x_test.reshape(x_test.shape[0], np.prod(x_test.shape[1:]))\n",
        "print(x_train.shape[0])\n",
        "print(np.prod(x_train.shape[1:]))\n",
        "print(x_test.shape[0])\n",
        "print(np.prod(x_test.shape[1:]))"
      ],
      "execution_count": 6,
      "outputs": [
        {
          "output_type": "stream",
          "text": [
            "60000\n",
            "784\n",
            "10000\n",
            "784\n"
          ],
          "name": "stdout"
        }
      ]
    },
    {
      "cell_type": "code",
      "metadata": {
        "id": "Ipi9vFxijbZZ",
        "colab_type": "code",
        "colab": {}
      },
      "source": [
        "x_train = x_train.reshape(x_train.shape[0], np.prod(x_train.shape[1:]))\n",
        "x_test = x_test.reshape(x_test.shape[0], np.prod(x_test.shape[1:]))"
      ],
      "execution_count": 0,
      "outputs": []
    },
    {
      "cell_type": "code",
      "metadata": {
        "id": "Baj110dbkE80",
        "colab_type": "code",
        "colab": {}
      },
      "source": [
        "x_train = x_train.astype('float32') / 255\n",
        "x_test = x_test.astype('float32') / 255"
      ],
      "execution_count": 0,
      "outputs": []
    },
    {
      "cell_type": "code",
      "metadata": {
        "id": "kL3NTfnKlUiV",
        "colab_type": "code",
        "outputId": "fd0d1437-dc4a-484d-c35f-b25b0e5d5907",
        "colab": {
          "base_uri": "https://localhost:8080/",
          "height": 50
        }
      },
      "source": [
        "print(x_train.shape)\n",
        "print(x_test.shape)"
      ],
      "execution_count": 9,
      "outputs": [
        {
          "output_type": "stream",
          "text": [
            "(60000, 784)\n",
            "(10000, 784)\n"
          ],
          "name": "stdout"
        }
      ]
    },
    {
      "cell_type": "code",
      "metadata": {
        "id": "deUts8dRlWeT",
        "colab_type": "code",
        "colab": {}
      },
      "source": [
        "#  creates an array of specified shape and fills it with random values which is actually a part of Normal(Gaussian)Distribution. This is Distribution is also known as Bell Curve \n",
        "# because of its characteristics shape.\n",
        "# mean=0, standard deviation=1\n",
        "noise_factor = 0.5\n",
        "x_train_noisy = x_train + noise_factor * np.random.normal(loc=0.0, scale=1.0, size=x_train.shape)\n",
        "x_test_noisy = x_test + noise_factor * np.random.normal(loc=0.0, scale=1.0, size=x_test.shape)\n",
        "x_train_noisy = np.clip(x_train_noisy, 0., 1.)\n",
        "x_test_noisy = np.clip(x_test_noisy, 0., 1.)"
      ],
      "execution_count": 0,
      "outputs": []
    },
    {
      "cell_type": "code",
      "metadata": {
        "id": "MlXrF4RslmZc",
        "colab_type": "code",
        "colab": {}
      },
      "source": [
        "x_feat_train = np.concatenate((x_train, x_test), axis=0)\n",
        "x_feat_train_noisy = np.concatenate((x_train_noisy, x_test_noisy), axis=0)"
      ],
      "execution_count": 0,
      "outputs": []
    },
    {
      "cell_type": "code",
      "metadata": {
        "id": "MzQJ7yPZmn9m",
        "colab_type": "code",
        "outputId": "cb745bdc-ccb0-4494-a650-852f27087dec",
        "colab": {
          "base_uri": "https://localhost:8080/",
          "height": 50
        }
      },
      "source": [
        "print(x_feat_train_noisy.shape[0], ' dae train samples')\n",
        "print(x_feat_train.shape[0])"
      ],
      "execution_count": 12,
      "outputs": [
        {
          "output_type": "stream",
          "text": [
            "70000  dae train samples\n",
            "70000\n"
          ],
          "name": "stdout"
        }
      ]
    },
    {
      "cell_type": "code",
      "metadata": {
        "id": "DeKoOuAymrSl",
        "colab_type": "code",
        "colab": {}
      },
      "source": [
        "def DEEP_DAE(features_shape, act='relu'):\n",
        "\n",
        "    # Input\n",
        "    x = Input(name='inputs', shape=features_shape, dtype='float32')\n",
        "    o = x\n",
        "    \n",
        "    # Encoder / Decoder\n",
        "    o = Dense(1024, activation=act, name='dense1')(o)\n",
        "    o = Dense(1024, activation=act, name='dense2')(o)\n",
        "    o = Dense(1024, activation=act, name='dense3')(o)\n",
        "    dec = Dense(784, activation='sigmoid', name='dense_dec')(o)\n",
        "    \n",
        "    # Print network summary\n",
        "    Model(inputs=x, outputs=dec).summary()\n",
        "    \n",
        "    return Model(inputs=x, outputs=dec)\n"
      ],
      "execution_count": 0,
      "outputs": []
    },
    {
      "cell_type": "code",
      "metadata": {
        "id": "tAK7nWHmm12_",
        "colab_type": "code",
        "colab": {}
      },
      "source": [
        "batch_size = 128\n",
        "epochs = 40\n",
        "            "
      ],
      "execution_count": 0,
      "outputs": []
    },
    {
      "cell_type": "code",
      "metadata": {
        "id": "2ju_hlRim4gP",
        "colab_type": "code",
        "outputId": "431f4a5e-5d0c-492b-a07a-2c398853d11b",
        "colab": {
          "base_uri": "https://localhost:8080/",
          "height": 319
        }
      },
      "source": [
        "\n",
        "autoenc = DEEP_DAE(input_shape)\n",
        "autoenc.compile(optimizer='adadelta', loss='binary_crossentropy')\n"
      ],
      "execution_count": 15,
      "outputs": [
        {
          "output_type": "stream",
          "text": [
            "Model: \"model_1\"\n",
            "_________________________________________________________________\n",
            "Layer (type)                 Output Shape              Param #   \n",
            "=================================================================\n",
            "inputs (InputLayer)          (None, 784)               0         \n",
            "_________________________________________________________________\n",
            "dense1 (Dense)               (None, 1024)              803840    \n",
            "_________________________________________________________________\n",
            "dense2 (Dense)               (None, 1024)              1049600   \n",
            "_________________________________________________________________\n",
            "dense3 (Dense)               (None, 1024)              1049600   \n",
            "_________________________________________________________________\n",
            "dense_dec (Dense)            (None, 784)               803600    \n",
            "=================================================================\n",
            "Total params: 3,706,640\n",
            "Trainable params: 3,706,640\n",
            "Non-trainable params: 0\n",
            "_________________________________________________________________\n"
          ],
          "name": "stdout"
        }
      ]
    },
    {
      "cell_type": "code",
      "metadata": {
        "id": "kHsdSJs-m7q2",
        "colab_type": "code",
        "outputId": "aeba7e04-9d08-40e9-ee4b-40d84e8684c9",
        "colab": {
          "base_uri": "https://localhost:8080/",
          "height": 1000
        }
      },
      "source": [
        "autoenc.fit(x_feat_train_noisy, x_feat_train, epochs=epochs, \n",
        "            batch_size=batch_size, shuffle=True)"
      ],
      "execution_count": 16,
      "outputs": [
        {
          "output_type": "stream",
          "text": [
            "Epoch 1/40\n",
            "70000/70000 [==============================] - 57s 817us/step - loss: 0.2484\n",
            "Epoch 2/40\n",
            "70000/70000 [==============================] - 57s 811us/step - loss: 0.1800\n",
            "Epoch 3/40\n",
            "70000/70000 [==============================] - 57s 810us/step - loss: 0.1552\n",
            "Epoch 4/40\n",
            "70000/70000 [==============================] - 57s 809us/step - loss: 0.1421\n",
            "Epoch 5/40\n",
            "70000/70000 [==============================] - 57s 810us/step - loss: 0.1342\n",
            "Epoch 6/40\n",
            "70000/70000 [==============================] - 56s 804us/step - loss: 0.1287\n",
            "Epoch 7/40\n",
            "70000/70000 [==============================] - 57s 813us/step - loss: 0.1249\n",
            "Epoch 8/40\n",
            "70000/70000 [==============================] - 56s 800us/step - loss: 0.1219\n",
            "Epoch 9/40\n",
            "70000/70000 [==============================] - 56s 801us/step - loss: 0.1195\n",
            "Epoch 10/40\n",
            "70000/70000 [==============================] - 56s 805us/step - loss: 0.1177\n",
            "Epoch 11/40\n",
            "70000/70000 [==============================] - 56s 800us/step - loss: 0.1160\n",
            "Epoch 12/40\n",
            "70000/70000 [==============================] - 56s 804us/step - loss: 0.1146\n",
            "Epoch 13/40\n",
            "70000/70000 [==============================] - 56s 805us/step - loss: 0.1135\n",
            "Epoch 14/40\n",
            "70000/70000 [==============================] - 56s 803us/step - loss: 0.1124\n",
            "Epoch 15/40\n",
            "70000/70000 [==============================] - 56s 802us/step - loss: 0.1115\n",
            "Epoch 16/40\n",
            "70000/70000 [==============================] - 56s 805us/step - loss: 0.1105\n",
            "Epoch 17/40\n",
            "70000/70000 [==============================] - 56s 800us/step - loss: 0.1099\n",
            "Epoch 18/40\n",
            "70000/70000 [==============================] - 56s 807us/step - loss: 0.1091\n",
            "Epoch 19/40\n",
            "70000/70000 [==============================] - 56s 802us/step - loss: 0.1087\n",
            "Epoch 20/40\n",
            "70000/70000 [==============================] - 56s 804us/step - loss: 0.1079\n",
            "Epoch 21/40\n",
            "70000/70000 [==============================] - 57s 809us/step - loss: 0.1075\n",
            "Epoch 22/40\n",
            "70000/70000 [==============================] - 56s 804us/step - loss: 0.1069\n",
            "Epoch 23/40\n",
            "70000/70000 [==============================] - 57s 808us/step - loss: 0.1064\n",
            "Epoch 24/40\n",
            "70000/70000 [==============================] - 56s 805us/step - loss: 0.1061\n",
            "Epoch 25/40\n",
            "70000/70000 [==============================] - 56s 801us/step - loss: 0.1056\n",
            "Epoch 26/40\n",
            "70000/70000 [==============================] - 56s 797us/step - loss: 0.1052\n",
            "Epoch 27/40\n",
            "70000/70000 [==============================] - 56s 796us/step - loss: 0.1049\n",
            "Epoch 28/40\n",
            "70000/70000 [==============================] - 56s 794us/step - loss: 0.1045\n",
            "Epoch 29/40\n",
            "70000/70000 [==============================] - 56s 798us/step - loss: 0.1041\n",
            "Epoch 30/40\n",
            "70000/70000 [==============================] - 56s 800us/step - loss: 0.1038\n",
            "Epoch 31/40\n",
            "70000/70000 [==============================] - 56s 802us/step - loss: 0.1035\n",
            "Epoch 32/40\n",
            "70000/70000 [==============================] - 56s 804us/step - loss: 0.1032\n",
            "Epoch 33/40\n",
            "70000/70000 [==============================] - 56s 800us/step - loss: 0.1029\n",
            "Epoch 34/40\n",
            "70000/70000 [==============================] - 56s 798us/step - loss: 0.1025\n",
            "Epoch 35/40\n",
            "70000/70000 [==============================] - 56s 802us/step - loss: 0.1024\n",
            "Epoch 36/40\n",
            "70000/70000 [==============================] - 56s 799us/step - loss: 0.1021\n",
            "Epoch 37/40\n",
            "70000/70000 [==============================] - 56s 800us/step - loss: 0.1018\n",
            "Epoch 38/40\n",
            "70000/70000 [==============================] - 56s 804us/step - loss: 0.1016\n",
            "Epoch 39/40\n",
            "70000/70000 [==============================] - 56s 803us/step - loss: 0.1013\n",
            "Epoch 40/40\n",
            "70000/70000 [==============================] - 56s 801us/step - loss: 0.1012\n"
          ],
          "name": "stdout"
        },
        {
          "output_type": "execute_result",
          "data": {
            "text/plain": [
              "<keras.callbacks.callbacks.History at 0x7f90ca54bc50>"
            ]
          },
          "metadata": {
            "tags": []
          },
          "execution_count": 16
        }
      ]
    },
    {
      "cell_type": "code",
      "metadata": {
        "id": "i5_kCX6SnMRy",
        "colab_type": "code",
        "colab": {}
      },
      "source": [
        "decoded_imgs = autoenc.predict(x_feat_train_noisy)"
      ],
      "execution_count": 0,
      "outputs": []
    },
    {
      "cell_type": "code",
      "metadata": {
        "id": "BLxLOHVRv-lN",
        "colab_type": "code",
        "outputId": "d53f3876-9ea3-4d2f-aab6-9822f3a12eb1",
        "colab": {
          "base_uri": "https://localhost:8080/",
          "height": 248
        }
      },
      "source": [
        "n = 10\n",
        "plt.figure(figsize=(20, 4))\n",
        "for i in range(1,n+1):\n",
        "    # display original\n",
        "    ax = plt.subplot(2, n, i)\n",
        "    plt.imshow(x_feat_train_noisy[i].reshape(28, 28))\n",
        "    plt.gray()\n",
        "    ax.get_xaxis().set_visible(False)\n",
        "    ax.get_yaxis().set_visible(False)\n",
        "\n",
        "    # display reconstruction\n",
        "    ax = plt.subplot(2, n, i + n)\n",
        "    plt.imshow(decoded_imgs[i].reshape(28, 28))\n",
        "    plt.gray()\n",
        "    ax.get_xaxis().set_visible(False)\n",
        "    ax.get_yaxis().set_visible(False)\n",
        "plt.show()\n"
      ],
      "execution_count": 18,
      "outputs": [
        {
          "output_type": "display_data",
          "data": {
            "image/png": "[encoded data removed]",
            "text/plain": [
              "<Figure size 1440x288 with 20 Axes>"
            ]
          },
          "metadata": {
            "tags": [],
            "needs_background": "light"
          }
        }
      ]
    },
    {
      "cell_type": "code",
      "metadata": {
        "id": "Uo-TfQUMwT86",
        "colab_type": "code",
        "colab": {}
      },
      "source": [
        "def FEATURES(model):\n",
        "    input_ = model.get_layer('inputs').input\n",
        "    feat1 = model.get_layer('dense1').output\n",
        "    feat2 = model.get_layer('dense2').output\n",
        "    feat3 = model.get_layer('dense3').output\n",
        "    # feat1, feat2,\n",
        "    feat4 = model.get_layer('dense_dec').output\n",
        "    # feat = Concatenate(name='concat')([feat1,feat2,feat3])\n",
        "    feat=feat4\n",
        "    model = Model(inputs=[input_],\n",
        "                      outputs=[feat])\n",
        "    return model"
      ],
      "execution_count": 0,
      "outputs": []
    },
    {
      "cell_type": "code",
      "metadata": {
        "id": "5nynuIdWhllI",
        "colab_type": "code",
        "colab": {}
      },
      "source": [
        ""
      ],
      "execution_count": 0,
      "outputs": []
    },
    {
      "cell_type": "code",
      "metadata": {
        "id": "P7WHkP6ewo_-",
        "colab_type": "code",
        "outputId": "a258046c-fe60-4d25-d449-db40c378bea1",
        "colab": {
          "base_uri": "https://localhost:8080/",
          "height": 50
        }
      },
      "source": [
        "_model = FEATURES(autoenc)\n",
        "features_train = _model.predict(x_train)\n",
        "features_test = _model.predict(x_test)\n",
        "print(features_train.shape, ' train samples shape')\n",
        "print(features_test.shape, ' train samples shape')"
      ],
      "execution_count": 20,
      "outputs": [
        {
          "output_type": "stream",
          "text": [
            "(60000, 784)  train samples shape\n",
            "(10000, 784)  train samples shape\n"
          ],
          "name": "stdout"
        }
      ]
    },
    {
      "cell_type": "code",
      "metadata": {
        "id": "b-xtYykBx8Sz",
        "colab_type": "code",
        "colab": {}
      },
      "source": [
        "def DNN(features_shape, num_classes, act='relu'):\n",
        "\n",
        "    # Input\n",
        "    x = Input(name='inputs', shape=features_shape, dtype='float32')\n",
        "    o = x\n",
        "    \n",
        "    # Encoder / Decoder\n",
        "    o = Dense(64, activation=act, name='dense1')(o)\n",
        "    o = Dense(64, activation=act, name='dense2')(o)\n",
        "    o = Dense(64, activation=act, name='dense3')(o)\n",
        "    y_pred = Dense(num_classes, activation='sigmoid', name='pred')(o)\n",
        "    \n",
        "    # Print network summary\n",
        "    Model(inputs=x, outputs=y_pred).summary()\n",
        "    \n",
        "    return Model(inputs=x, outputs=y_pred)"
      ],
      "execution_count": 0,
      "outputs": []
    },
    {
      "cell_type": "code",
      "metadata": {
        "id": "1pcJerxfyZVv",
        "colab_type": "code",
        "colab": {}
      },
      "source": [
        "input_shape2 = (features_train.shape[1], )\n",
        "num_classes = 10\n",
        "y_train_ohe = np_utils.to_categorical(y_train, num_classes)\n",
        "y_test_ohe = np_utils.to_categorical(y_test, num_classes)\n",
        " \n",
        "batch_size = 128\n",
        "epochs = 20\n",
        "model_fname = 'dnn'\n",
        "\n"
      ],
      "execution_count": 0,
      "outputs": []
    },
    {
      "cell_type": "code",
      "metadata": {
        "id": "tod2koQl_OKq",
        "colab_type": "code",
        "outputId": "bea6b379-186b-4101-9415-5023c1484cea",
        "colab": {
          "base_uri": "https://localhost:8080/",
          "height": 319
        }
      },
      "source": [
        "callbacks = [ModelCheckpoint(monitor='val_acc', filepath=model_fname + '.hdf5',\n",
        "                             save_best_only=True, save_weights_only=True,\n",
        "                             mode='min')]\n",
        "            \n",
        "deep = DNN(input_shape2, num_classes)\n",
        "deep.compile(optimizer='adadelta', loss='binary_crossentropy', metrics=['acc'])\n"
      ],
      "execution_count": 23,
      "outputs": [
        {
          "output_type": "stream",
          "text": [
            "Model: \"model_4\"\n",
            "_________________________________________________________________\n",
            "Layer (type)                 Output Shape              Param #   \n",
            "=================================================================\n",
            "inputs (InputLayer)          (None, 784)               0         \n",
            "_________________________________________________________________\n",
            "dense1 (Dense)               (None, 64)                50240     \n",
            "_________________________________________________________________\n",
            "dense2 (Dense)               (None, 64)                4160      \n",
            "_________________________________________________________________\n",
            "dense3 (Dense)               (None, 64)                4160      \n",
            "_________________________________________________________________\n",
            "pred (Dense)                 (None, 10)                650       \n",
            "=================================================================\n",
            "Total params: 59,210\n",
            "Trainable params: 59,210\n",
            "Non-trainable params: 0\n",
            "_________________________________________________________________\n"
          ],
          "name": "stdout"
        }
      ]
    },
    {
      "cell_type": "code",
      "metadata": {
        "id": "h-Yo_P3b_VNI",
        "colab_type": "code",
        "outputId": "aaa7c85b-3d68-427d-d5b3-3831e6e7592c",
        "colab": {
          "base_uri": "https://localhost:8080/",
          "height": 706
        }
      },
      "source": [
        "\n",
        "history = deep.fit(features_train, y_train_ohe, epochs=epochs, \n",
        "                   batch_size=batch_size, shuffle=True,\n",
        "                   validation_data=(features_test, y_test_ohe), \n",
        "                   callbacks=callbacks)\n"
      ],
      "execution_count": 24,
      "outputs": [
        {
          "output_type": "stream",
          "text": [
            "Train on 60000 samples, validate on 10000 samples\n",
            "Epoch 1/20\n",
            "60000/60000 [==============================] - 2s 30us/step - loss: 0.1032 - acc: 0.9645 - val_loss: 0.0486 - val_acc: 0.9846\n",
            "Epoch 2/20\n",
            "60000/60000 [==============================] - 2s 27us/step - loss: 0.0432 - acc: 0.9862 - val_loss: 0.0385 - val_acc: 0.9876\n",
            "Epoch 3/20\n",
            "60000/60000 [==============================] - 2s 27us/step - loss: 0.0344 - acc: 0.9888 - val_loss: 0.0332 - val_acc: 0.9889\n",
            "Epoch 4/20\n",
            "60000/60000 [==============================] - 2s 28us/step - loss: 0.0296 - acc: 0.9904 - val_loss: 0.0260 - val_acc: 0.9913\n",
            "Epoch 5/20\n",
            "60000/60000 [==============================] - 2s 27us/step - loss: 0.0263 - acc: 0.9915 - val_loss: 0.0256 - val_acc: 0.9915\n",
            "Epoch 6/20\n",
            "60000/60000 [==============================] - 2s 27us/step - loss: 0.0236 - acc: 0.9923 - val_loss: 0.0240 - val_acc: 0.9920\n",
            "Epoch 7/20\n",
            "60000/60000 [==============================] - 2s 27us/step - loss: 0.0219 - acc: 0.9928 - val_loss: 0.0236 - val_acc: 0.9920\n",
            "Epoch 8/20\n",
            "60000/60000 [==============================] - 2s 26us/step - loss: 0.0201 - acc: 0.9934 - val_loss: 0.0201 - val_acc: 0.9931\n",
            "Epoch 9/20\n",
            "60000/60000 [==============================] - 2s 27us/step - loss: 0.0189 - acc: 0.9938 - val_loss: 0.0217 - val_acc: 0.9926\n",
            "Epoch 10/20\n",
            "60000/60000 [==============================] - 2s 27us/step - loss: 0.0179 - acc: 0.9941 - val_loss: 0.0204 - val_acc: 0.9933\n",
            "Epoch 11/20\n",
            "60000/60000 [==============================] - 2s 27us/step - loss: 0.0168 - acc: 0.9945 - val_loss: 0.0179 - val_acc: 0.9941\n",
            "Epoch 12/20\n",
            "60000/60000 [==============================] - 2s 27us/step - loss: 0.0159 - acc: 0.9947 - val_loss: 0.0193 - val_acc: 0.9935\n",
            "Epoch 13/20\n",
            "60000/60000 [==============================] - 2s 27us/step - loss: 0.0152 - acc: 0.9950 - val_loss: 0.0171 - val_acc: 0.9942\n",
            "Epoch 14/20\n",
            "60000/60000 [==============================] - 2s 27us/step - loss: 0.0145 - acc: 0.9952 - val_loss: 0.0169 - val_acc: 0.9942\n",
            "Epoch 15/20\n",
            "60000/60000 [==============================] - 2s 27us/step - loss: 0.0138 - acc: 0.9955 - val_loss: 0.0173 - val_acc: 0.9943\n",
            "Epoch 16/20\n",
            "60000/60000 [==============================] - 2s 26us/step - loss: 0.0133 - acc: 0.9956 - val_loss: 0.0171 - val_acc: 0.9942\n",
            "Epoch 17/20\n",
            "60000/60000 [==============================] - 2s 27us/step - loss: 0.0127 - acc: 0.9958 - val_loss: 0.0180 - val_acc: 0.9939\n",
            "Epoch 18/20\n",
            "60000/60000 [==============================] - 2s 28us/step - loss: 0.0122 - acc: 0.9960 - val_loss: 0.0157 - val_acc: 0.9947\n",
            "Epoch 19/20\n",
            "60000/60000 [==============================] - 2s 27us/step - loss: 0.0118 - acc: 0.9962 - val_loss: 0.0164 - val_acc: 0.9947\n",
            "Epoch 20/20\n",
            "60000/60000 [==============================] - 2s 27us/step - loss: 0.0113 - acc: 0.9963 - val_loss: 0.0170 - val_acc: 0.9945\n"
          ],
          "name": "stdout"
        }
      ]
    },
    {
      "cell_type": "code",
      "metadata": {
        "id": "s0lHKPkV_Y-K",
        "colab_type": "code",
        "outputId": "268de6c1-8485-4032-a5e4-ddb623c05c47",
        "colab": {
          "base_uri": "https://localhost:8080/",
          "height": 34
        }
      },
      "source": [
        "\n",
        "# The predict_classes function outputs the highest probability class\n",
        "# according to the trained classifier for each input example.\n",
        "deep.load_weights(model_fname + '.hdf5')\n",
        "predictions = deep.predict(features_test)\n",
        "predicted_classes = np.argmax(predictions, axis=1)\n",
        "print(predicted_classes)\n",
        "\n",
        "# Check which items we got right / wrong\n",
        "correct_indices = np.nonzero(predicted_classes == y_test)[0]\n",
        "incorrect_indices = np.nonzero(predicted_classes != y_test)[0]"
      ],
      "execution_count": 0,
      "outputs": [
        {
          "output_type": "stream",
          "text": [
            "[7 2 1 ... 4 5 6]\n"
          ],
          "name": "stdout"
        }
      ]
    },
    {
      "cell_type": "code",
      "metadata": {
        "id": "0q98-OJwEBb9",
        "colab_type": "code",
        "outputId": "7e230e4f-e158-47e6-bb77-80f04408c173",
        "colab": {
          "base_uri": "https://localhost:8080/",
          "height": 545
        }
      },
      "source": [
        "plt.figure()\n",
        "for i, correct in enumerate(correct_indices[:9]):\n",
        "    plt.subplot(3,3,i+1)\n",
        "    plt.imshow(x_test[correct].reshape(28,28), cmap='gray', interpolation='none')\n",
        "    plt.title(\"Predicted {}, Class {}\".format(predicted_classes[correct], y_test[correct]))\n",
        "    \n",
        "plt.figure()\n",
        "for i, incorrect in enumerate(incorrect_indices[:9]):\n",
        "    plt.subplot(3,3,i+1)\n",
        "    plt.imshow(x_test[incorrect].reshape(28,28), cmap='gray', interpolation='none')\n",
        "    plt.title(\"Predicted {}, Class {}\".format(predicted_classes[incorrect], y_test[incorrect]))"
      ],
      "execution_count": 0,
      "outputs": [
        {
          "output_type": "display_data",
          "data": {
            "image/png": "[encoded data removed]",
            "text/plain": [
              "<Figure size 432x288 with 9 Axes>"
            ]
          },
          "metadata": {
            "tags": [],
            "needs_background": "light"
          }
        },
        {
          "output_type": "display_data",
          "data": {
            "image/png": "[encoded data removed]",
            "text/plain": [
              "<Figure size 432x288 with 9 Axes>"
            ]
          },
          "metadata": {
            "tags": [],
            "needs_background": "light"
          }
        }
      ]
    },
    {
      "cell_type": "code",
      "metadata": {
        "id": "NOCItHAFEE8d",
        "colab_type": "code",
        "colab": {
          "base_uri": "https://localhost:8080/",
          "height": 573
        },
        "outputId": "515a19fc-f1b9-4360-e681-88d34561d728"
      },
      "source": [
        "import matplotlib.pyplot as plt\n",
        "# summarize history for accuracy\n",
        "plt.plot(history.history['acc'])\n",
        "plt.plot(history.history['val_acc'])\n",
        "plt.title('model accuracy Model3')\n",
        "plt.ylabel('accuracy')\n",
        "plt.xlabel('epoch')\n",
        "plt.legend(['train', 'test'], loc='upper left')\n",
        "plt.show()\n",
        "# summarize history for loss\n",
        "plt.plot(history.history['loss'])\n",
        "plt.plot(history.history['val_loss'])\n",
        "plt.title('model loss Model3')\n",
        "plt.ylabel('loss')\n",
        "plt.xlabel('epoch')\n",
        "plt.legend(['train', 'test'], loc='upper left')\n",
        "plt.show()"
      ],
      "execution_count": 25,
      "outputs": [
        {
          "output_type": "display_data",
          "data": {
            "image/png": "[encoded data removed]",
            "text/plain": [
              "<Figure size 432x288 with 1 Axes>"
            ]
          },
          "metadata": {
            "tags": [],
            "needs_background": "light"
          }
        },
        {
          "output_type": "display_data",
          "data": {
            "image/png": "[encoded data removed]",
            "text/plain": [
              "<Figure size 432x288 with 1 Axes>"
            ]
          },
          "metadata": {
            "tags": [],
            "needs_background": "light"
          }
        }
      ]
    },
    {
      "cell_type": "code",
      "metadata": {
        "id": "43jRnE1x-yUl",
        "colab_type": "code",
        "colab": {}
      },
      "source": [
        ""
      ],
      "execution_count": 0,
      "outputs": []
    }
  ]
}